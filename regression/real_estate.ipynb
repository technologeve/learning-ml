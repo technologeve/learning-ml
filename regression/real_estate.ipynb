{
 "cells": [
  {
   "cell_type": "markdown",
   "id": "be38ec5c-6885-4e5b-967b-7d45de91226b",
   "metadata": {},
   "source": [
    "# Real Estate Regression Task\n",
    "\n",
    "### 1. Problem Framing\n",
    "- Task, T: Predict the price (per unit) of a residential property\n",
    "- Experience, E: A dataset, originally investigated by Yeh et al (2018), of 414 records of sales.\n",
    "- Performance, P: Measure performance as RMSE in comparison to true selling price. Aim to have the RMSE as low as possible (must be below 7).\n",
    "\n",
    "\n",
    "Reference: Yeh, I. C., & Hsu, T. K. (2018). Building real estate valuation models with comparative approach through case-based reasoning. Applied Soft Computing, 65, 260-271"
   ]
  },
  {
   "cell_type": "markdown",
   "id": "b8c82647-c52d-43ce-93c4-a1f498004748",
   "metadata": {},
   "source": [
    "### 2. Explore and clean data"
   ]
  },
  {
   "cell_type": "markdown",
   "id": "929f08d8-9ae2-4cb5-a7e7-09c67af41bac",
   "metadata": {},
   "source": [
    "### 3. Feature selection"
   ]
  },
  {
   "cell_type": "markdown",
   "id": "0f1494f2-4456-4e6c-bf0d-fb31784d57df",
   "metadata": {},
   "source": [
    "### 4. Model choice and hyperparameter tuning"
   ]
  },
  {
   "cell_type": "markdown",
   "id": "998d79fb-b8f9-4c2c-9e5b-20e6fddfe7b5",
   "metadata": {},
   "source": [
    "### 5. Evaluation"
   ]
  }
 ],
 "metadata": {
  "kernelspec": {
   "display_name": "Python 3 (ipykernel)",
   "language": "python",
   "name": "python3"
  },
  "language_info": {
   "codemirror_mode": {
    "name": "ipython",
    "version": 3
   },
   "file_extension": ".py",
   "mimetype": "text/x-python",
   "name": "python",
   "nbconvert_exporter": "python",
   "pygments_lexer": "ipython3",
   "version": "3.11.5"
  }
 },
 "nbformat": 4,
 "nbformat_minor": 5
}
